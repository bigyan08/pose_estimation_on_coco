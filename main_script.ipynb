{
 "cells": [
  {
   "cell_type": "code",
   "execution_count": 1,
   "metadata": {},
   "outputs": [
    {
     "name": "stdout",
     "output_type": "stream",
     "text": [
      "loading annotations into memory...\n",
      "Done (t=7.27s)\n",
      "creating index...\n",
      "index created!\n",
      "Images with at least one person: 64115\n"
     ]
    }
   ],
   "source": [
    "from pycocotools.coco import COCO\n",
    "import json\n",
    "import os\n",
    "\n",
    "# Define paths to annotation file and image directory\n",
    "ann_file = 'dataset/annotations_trainval2017/annotations/person_keypoints_train2017.json'\n",
    "image_dir = 'dataset/train2017/'\n",
    "\n",
    "# Initialize COCO API for keypoints\n",
    "coco = COCO(ann_file)\n",
    "\n",
    "# Get all image IDs\n",
    "image_ids = coco.getImgIds()\n",
    "\n",
    "# Get the IDs of images that contain at least one person\n",
    "images_with_person_ids = []\n",
    "for image_id in image_ids:\n",
    "    # Get the annotations for the image\n",
    "    annotations = coco.loadAnns(coco.getAnnIds(imgIds=image_id))\n",
    "    \n",
    "    # If there are any annotations for persons (keypoints), keep the image\n",
    "    if any(ann['category_id'] == 1 for ann in annotations):  # Category ID 1 corresponds to 'person'\n",
    "        images_with_person_ids.append(image_id)\n",
    "\n",
    "print(f\"Images with at least one person: {len(images_with_person_ids)}\")\n"
   ]
  },
  {
   "cell_type": "code",
   "execution_count": 3,
   "metadata": {},
   "outputs": [
    {
     "name": "stdout",
     "output_type": "stream",
     "text": [
      "loading annotations into memory...\n",
      "Done (t=6.25s)\n",
      "creating index...\n",
      "index created!\n",
      "Category ID: 1, Name: person\n"
     ]
    }
   ],
   "source": [
    "from pycocotools.coco import COCO\n",
    "\n",
    "# Load the COCO annotations\n",
    "ann_file = 'dataset/annotations_trainval2017/annotations/person_keypoints_train2017.json'\n",
    "coco = COCO(ann_file)\n",
    "\n",
    "# Get all categories in the dataset\n",
    "categories = coco.loadCats(coco.getCatIds())\n",
    "\n",
    "# Print category IDs and their names to verify the \"person\" category\n",
    "for category in categories:\n",
    "    print(f\"Category ID: {category['id']}, Name: {category['name']}\")\n"
   ]
  },
  {
   "cell_type": "code",
   "execution_count": null,
   "metadata": {},
   "outputs": [],
   "source": []
  }
 ],
 "metadata": {
  "kernelspec": {
   "display_name": ".venv",
   "language": "python",
   "name": "python3"
  },
  "language_info": {
   "codemirror_mode": {
    "name": "ipython",
    "version": 3
   },
   "file_extension": ".py",
   "mimetype": "text/x-python",
   "name": "python",
   "nbconvert_exporter": "python",
   "pygments_lexer": "ipython3",
   "version": "3.12.3"
  }
 },
 "nbformat": 4,
 "nbformat_minor": 2
}
